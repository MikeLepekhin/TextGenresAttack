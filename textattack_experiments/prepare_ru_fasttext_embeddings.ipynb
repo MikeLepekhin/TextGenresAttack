{
 "cells": [
  {
   "cell_type": "code",
   "execution_count": 1,
   "metadata": {},
   "outputs": [
    {
     "name": "stdout",
     "output_type": "stream",
     "text": [
      "Requirement already satisfied: fasttext in /home/mlepekhin/anaconda3/lib/python3.7/site-packages (0.9.2)\n",
      "Requirement already satisfied: numpy in /home/mlepekhin/anaconda3/lib/python3.7/site-packages (from fasttext) (1.18.1)\n",
      "Requirement already satisfied: setuptools>=0.7.0 in /home/mlepekhin/anaconda3/lib/python3.7/site-packages (from fasttext) (45.2.0.post20200210)\n",
      "Requirement already satisfied: pybind11>=2.2 in /home/mlepekhin/anaconda3/lib/python3.7/site-packages (from fasttext) (2.6.2)\n",
      "Requirement already satisfied: torchtext in /home/mlepekhin/anaconda3/lib/python3.7/site-packages (0.8.1)\n",
      "Requirement already satisfied: tqdm in /home/mlepekhin/anaconda3/lib/python3.7/site-packages (from torchtext) (4.42.1)\n",
      "Requirement already satisfied: torch==1.7.1 in /home/mlepekhin/anaconda3/lib/python3.7/site-packages (from torchtext) (1.7.1)\n",
      "Requirement already satisfied: numpy in /home/mlepekhin/anaconda3/lib/python3.7/site-packages (from torchtext) (1.18.1)\n",
      "Requirement already satisfied: requests in /home/mlepekhin/anaconda3/lib/python3.7/site-packages (from torchtext) (2.22.0)\n",
      "Requirement already satisfied: typing-extensions in /home/mlepekhin/anaconda3/lib/python3.7/site-packages (from torch==1.7.1->torchtext) (3.7.4.3)\n",
      "Requirement already satisfied: chardet<3.1.0,>=3.0.2 in /home/mlepekhin/anaconda3/lib/python3.7/site-packages (from requests->torchtext) (3.0.4)\n",
      "Requirement already satisfied: idna<2.9,>=2.5 in /home/mlepekhin/anaconda3/lib/python3.7/site-packages (from requests->torchtext) (2.8)\n",
      "Requirement already satisfied: urllib3!=1.25.0,!=1.25.1,<1.26,>=1.21.1 in /home/mlepekhin/anaconda3/lib/python3.7/site-packages (from requests->torchtext) (1.25.8)\n",
      "Requirement already satisfied: certifi>=2017.4.17 in /home/mlepekhin/anaconda3/lib/python3.7/site-packages (from requests->torchtext) (2019.11.28)\n"
     ]
    }
   ],
   "source": [
    "!pip install fasttext\n",
    "!pip install torchtext"
   ]
  },
  {
   "cell_type": "code",
   "execution_count": 2,
   "metadata": {},
   "outputs": [
    {
     "data": {
      "text/plain": [
       "array([-0.064301 , -0.034251 ,  0.16851  , -0.42814  , -0.22268  ,\n",
       "       -0.18971  ,  0.401    ,  0.10067  ,  0.083221 , -0.047317 ,\n",
       "        0.0038151,  0.43447  , -0.067014 ,  0.055387 , -0.28994  ,\n",
       "        0.35808  , -0.059628 , -0.32868  ,  0.7528   , -0.26326  ,\n",
       "        0.066946 ,  0.3586   , -0.26416  , -0.066329 ,  0.27619  ,\n",
       "       -0.46425  ,  0.3013   ,  0.041779 ,  0.02559  ,  0.074271 ,\n",
       "        0.036189 ,  0.5936   , -0.14416  , -0.031843 ,  0.33112  ,\n",
       "        0.20275  , -0.25786  , -0.29768  ,  0.62869  ,  0.25254  ,\n",
       "        0.25742  , -0.14699  ,  0.049805 , -0.043491 , -0.24225  ,\n",
       "        0.060025 ,  0.098179 , -0.023483 , -0.53332  , -0.41924  ,\n",
       "        0.44223  , -0.48307  , -0.11581  , -0.36231  ,  0.10827  ,\n",
       "       -0.094124 ,  0.21466  ,  0.060298 , -0.1024   ,  0.43561  ,\n",
       "        0.03455  , -0.32417  ,  0.02928  , -0.071303 ,  0.53491  ,\n",
       "        0.099181 ,  0.11324  ,  0.11     ,  0.028824 ,  0.059483 ,\n",
       "        0.38481  ,  0.079617 ,  0.011921 , -0.34259  , -0.041441 ,\n",
       "       -0.50927  ,  0.29275  ,  0.58961  ,  0.20743  ,  0.031005 ,\n",
       "        0.1625   ,  0.40735  , -0.18508  ,  0.031482 ,  0.1308   ,\n",
       "        0.033907 , -0.25605  ,  0.1912   ,  0.048726 ,  0.12298  ,\n",
       "        0.14278  , -0.035857 ,  0.32725  ,  0.13568  , -0.048164 ,\n",
       "        0.018232 ,  0.56452  ,  0.42414  ,  0.16526  , -0.12229  ,\n",
       "        0.47834  , -0.0082707,  0.22148  , -0.072294 , -0.014302 ,\n",
       "        0.18879  , -0.22973  , -0.66212  , -0.38408  ,  0.15019  ,\n",
       "       -0.092691 ,  0.13833  , -0.61554  , -0.38152  , -0.25113  ,\n",
       "       -0.19212  ,  0.050819 ,  0.014931 , -0.56363  , -0.33003  ,\n",
       "        0.040169 , -0.31168  ,  0.041204 ,  0.010366 ,  0.24001  ,\n",
       "       -0.164    ,  0.12369  , -0.17671  ,  0.20711  , -0.015236 ,\n",
       "        0.25498  , -0.267    ,  0.22503  ,  0.12798  ,  0.21355  ,\n",
       "        0.39858  , -0.0037568, -0.30536  ,  0.22693  , -0.36685  ,\n",
       "       -0.22271  , -0.33228  ,  0.12424  ,  0.12141  ,  0.10165  ,\n",
       "       -0.18529  ,  0.043201 ,  0.12689  ,  0.2305   , -0.34638  ,\n",
       "        0.18785  , -0.1756   , -0.043161 , -0.017693 , -0.47654  ,\n",
       "        0.29822  ,  0.013236 ,  0.233    ,  0.86513  ,  0.19514  ,\n",
       "       -0.19792  ,  0.7237   , -0.21701  ,  0.06467  , -0.34875  ,\n",
       "       -0.45391  , -0.028534 ,  0.169    ,  0.072082 ,  0.13446  ,\n",
       "       -0.027157 ,  0.03177  ,  0.051577 ,  0.34403  ,  0.68174  ,\n",
       "        0.073405 ,  0.055982 , -0.10266  , -0.14595  , -0.022018 ,\n",
       "       -0.2031   ,  0.33137  , -0.3812   , -0.46597  ,  0.41048  ,\n",
       "        0.22648  ,  0.18493  ,  0.17784  , -0.26163  , -0.019125 ,\n",
       "        0.17306  , -0.38783  ,  0.09011  ,  0.011752 , -0.1018   ,\n",
       "       -0.068838 , -0.5437   ,  0.23169  , -0.15459  ,  0.031743 ,\n",
       "       -0.2735   , -0.3072   ,  0.029799 ,  0.2051   ,  0.27215  ,\n",
       "        0.080975 , -0.34296  , -0.19105  ,  0.062448 ,  0.11378  ,\n",
       "        0.02823  ,  0.15228  , -0.59976  ,  0.069874 ,  0.10445  ,\n",
       "        0.34506  ,  0.072157 , -0.071419 ,  0.24181  , -0.15416  ,\n",
       "       -0.20484  ,  0.23847  ,  0.26421  , -0.36797  ,  0.015184 ,\n",
       "        0.2221   ,  0.43436  ,  0.28657  ,  0.14883  ,  0.18846  ,\n",
       "        0.35658  ,  0.062061 , -0.34018  , -0.12028  , -0.14325  ,\n",
       "       -0.3663   , -0.40157  ,  0.13395  , -0.17533  ,  0.0041966,\n",
       "       -0.083465 ,  0.50419  , -0.32222  ,  0.26765  ,  0.47537  ,\n",
       "       -0.43846  ,  0.14154  , -0.26989  ,  0.43868  ,  0.25747  ,\n",
       "        0.079873 , -0.60464  , -0.3832   ,  0.029081 ,  0.10341  ,\n",
       "        0.28357  , -0.18952  ,  0.27246  , -0.36394  , -0.021369 ,\n",
       "       -0.1042   , -0.28953  , -0.18439  ,  0.45099  , -0.25324  ,\n",
       "       -0.35538  ,  0.11507  , -0.37604  , -0.062309 ,  0.11695  ,\n",
       "        0.14104  ,  0.3381   , -0.1945   ,  0.071116 , -0.52847  ,\n",
       "        0.20014  ,  0.20176  , -0.29747  ,  0.15906  , -0.13423  ,\n",
       "       -0.16844  ,  0.28448  , -0.15543  , -0.06889  , -0.04366  ,\n",
       "        0.099701 , -0.021326 ,  0.029104 ,  0.069214 ,  0.0079228,\n",
       "        0.10705  , -0.12564  ,  0.16633  ,  0.55863  ,  0.10537  ,\n",
       "        0.13302  , -0.29179  , -0.32991  , -0.080415 , -0.29258  ],\n",
       "      dtype=float32)"
      ]
     },
     "execution_count": 2,
     "metadata": {},
     "output_type": "execute_result"
    }
   ],
   "source": [
    "from torchtext.vocab import FastText\n",
    "\n",
    "embedding = FastText('ru')\n",
    "embedding['привет'].numpy()"
   ]
  },
  {
   "cell_type": "code",
   "execution_count": 3,
   "metadata": {},
   "outputs": [],
   "source": [
    "import numpy as np\n",
    "import pandas as pd\n",
    "import collections\n",
    "from tqdm import tqdm\n",
    "\n",
    "train_texts = list(pd.read_csv('/home/mlepekhin/data/ru_train').text.values)\n",
    "test_texts = list(pd.read_csv('/home/mlepekhin/data/ru_test').text.values)"
   ]
  },
  {
   "cell_type": "code",
   "execution_count": 4,
   "metadata": {},
   "outputs": [
    {
     "name": "stdout",
     "output_type": "stream",
     "text": [
      "mkdir: cannot create directory ‘ru_fasttext_30000’: File exists\n",
      "mkdir: cannot create directory ‘ru_fasttext_50000’: File exists\n",
      "mkdir: cannot create directory ‘ru_fasttext_all’: File exists\n"
     ]
    }
   ],
   "source": [
    "!mkdir ru_fasttext_30000\n",
    "!mkdir ru_fasttext_50000\n",
    "!mkdir ru_fasttext_all"
   ]
  },
  {
   "cell_type": "code",
   "execution_count": 5,
   "metadata": {},
   "outputs": [],
   "source": [
    "target_tokens = [token for text in train_texts + test_texts for token in text.lower().split()]\n",
    "token_count = collections.defaultdict(int)\n",
    "for token in target_tokens:\n",
    "    token_count[token] += 1\n",
    "token_count = sorted(token_count.items(), key=lambda item: (-item[1], item[0]))[:30000]\n",
    "token_count_dict = dict(token_count)"
   ]
  },
  {
   "cell_type": "code",
   "execution_count": 8,
   "metadata": {},
   "outputs": [],
   "source": [
    "def is_russian_word(s):\n",
    "    return all(['а' <= ch <= 'я' for ch in s.lower()])"
   ]
  },
  {
   "cell_type": "code",
   "execution_count": 9,
   "metadata": {},
   "outputs": [],
   "source": [
    "final_vocab = [pair[0] for pair in token_count\\\n",
    "               if is_russian_word(pair[0]) and np.linalg.norm(embedding[pair[0]].numpy()) > 0]\n",
    "word2index = {word: index for index, word in enumerate(final_vocab)}\n",
    "index2word = {index: word for index, word in enumerate(final_vocab)}\n",
    "embedding_matrix = [embedding[word].numpy() for word in final_vocab]\n",
    "embedding_matrix = np.array([vec / (np.linalg.norm(vec) if np.linalg.norm(vec) > 0.0001 else 1.0)\\\n",
    "                    for vec in embedding_matrix])"
   ]
  },
  {
   "cell_type": "code",
   "execution_count": 10,
   "metadata": {},
   "outputs": [
    {
     "name": "stdout",
     "output_type": "stream",
     "text": [
      "27449\n"
     ]
    }
   ],
   "source": [
    "print(len(final_vocab))"
   ]
  },
  {
   "cell_type": "code",
   "execution_count": 11,
   "metadata": {},
   "outputs": [],
   "source": [
    "import faiss"
   ]
  },
  {
   "cell_type": "code",
   "execution_count": 12,
   "metadata": {},
   "outputs": [],
   "source": [
    "dim = 300\n",
    "k = 50\n",
    "cluster_num = 1000  # количество “командиров”\n",
    "\n",
    "quantiser = faiss.IndexFlatL2(dim) \n",
    "index = faiss.IndexIVFFlat(quantiser, dim, cluster_num)\n",
    "index.nprobe = 16 "
   ]
  },
  {
   "cell_type": "code",
   "execution_count": 13,
   "metadata": {},
   "outputs": [],
   "source": [
    "index.train(embedding_matrix)\n",
    "index.add(embedding_matrix)"
   ]
  },
  {
   "cell_type": "code",
   "execution_count": 14,
   "metadata": {},
   "outputs": [
    {
     "name": "stdout",
     "output_type": "stream",
     "text": [
      "[[    0   109    31 ... 16202 19522   998]\n",
      " [    1    28    19 ...  4447     4    83]\n",
      " [    2   362 25537 ...   156 10104  3355]\n",
      " ...\n",
      " [27446  4988 20297 ... 24218 27096 10546]\n",
      " [27447 13527 24532 ... 13964  4800 10829]\n",
      " [27448 18766  1054 ... 13482 22767 11233]]\n",
      "[[0.         0.97350657 1.0172565  ... 1.2129142  1.2139813  1.2153895 ]\n",
      " [0.         0.68238634 0.8181163  ... 1.1453149  1.1463821  1.1481252 ]\n",
      " [0.         1.19431    1.2073742  ... 1.34624    1.3477619  1.347893  ]\n",
      " ...\n",
      " [0.         0.85511464 0.8617328  ... 1.0969458  1.1004038  1.1016951 ]\n",
      " [0.         0.795917   0.84846747 ... 1.0890996  1.093498   1.0973287 ]\n",
      " [0.         0.4853221  1.0637584  ... 1.3618591  1.3624151  1.3654916 ]]\n"
     ]
    }
   ],
   "source": [
    "D, I = index.search(embedding_matrix, k) \n",
    "print(I)\n",
    "print(D)"
   ]
  },
  {
   "cell_type": "code",
   "execution_count": 15,
   "metadata": {},
   "outputs": [],
   "source": [
    "import pickle\n",
    "\n",
    "np.save('ru_fasttext_30000/nn_matrix.npy', I)\n",
    "np.save('ru_fasttext_30000/embeddings_matrix.npy', embedding_matrix)\n",
    "pickle.dump(word2index, open('ru_fasttext_30000/word2index.pcl', 'wb'))\n",
    "pickle.dump(index2word, open('ru_fasttext_30000/index2word.pcl', 'wb'))"
   ]
  },
  {
   "cell_type": "code",
   "execution_count": 16,
   "metadata": {},
   "outputs": [],
   "source": [
    "?pickle.dump"
   ]
  },
  {
   "cell_type": "code",
   "execution_count": 17,
   "metadata": {},
   "outputs": [
    {
     "data": {
      "text/plain": [
       "0.9999999999999999"
      ]
     },
     "execution_count": 17,
     "metadata": {},
     "output_type": "execute_result"
    }
   ],
   "source": [
    "np.linalg.norm(np.array([1, 1]) / np.linalg.norm([1, 1]))"
   ]
  },
  {
   "cell_type": "code",
   "execution_count": null,
   "metadata": {},
   "outputs": [],
   "source": []
  }
 ],
 "metadata": {
  "kernelspec": {
   "display_name": "Python 3",
   "language": "python",
   "name": "python3"
  },
  "language_info": {
   "codemirror_mode": {
    "name": "ipython",
    "version": 3
   },
   "file_extension": ".py",
   "mimetype": "text/x-python",
   "name": "python",
   "nbconvert_exporter": "python",
   "pygments_lexer": "ipython3",
   "version": "3.8.3"
  }
 },
 "nbformat": 4,
 "nbformat_minor": 5
}

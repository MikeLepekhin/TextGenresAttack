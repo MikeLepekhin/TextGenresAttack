{
 "cells": [
  {
   "cell_type": "code",
   "execution_count": 1,
   "metadata": {},
   "outputs": [
    {
     "name": "stdout",
     "output_type": "stream",
     "text": [
      "Requirement already satisfied: fasttext in /home/mlepekhin/anaconda3/lib/python3.7/site-packages (0.9.2)\n",
      "Requirement already satisfied: pybind11>=2.2 in /home/mlepekhin/anaconda3/lib/python3.7/site-packages (from fasttext) (2.6.2)\n",
      "Requirement already satisfied: setuptools>=0.7.0 in /home/mlepekhin/anaconda3/lib/python3.7/site-packages (from fasttext) (45.2.0.post20200210)\n",
      "Requirement already satisfied: numpy in /home/mlepekhin/anaconda3/lib/python3.7/site-packages (from fasttext) (1.18.1)\n",
      "Requirement already satisfied: torchtext in /home/mlepekhin/anaconda3/lib/python3.7/site-packages (0.8.1)\n",
      "Requirement already satisfied: numpy in /home/mlepekhin/anaconda3/lib/python3.7/site-packages (from torchtext) (1.18.1)\n",
      "Requirement already satisfied: torch==1.7.1 in /home/mlepekhin/anaconda3/lib/python3.7/site-packages (from torchtext) (1.7.1)\n",
      "Requirement already satisfied: requests in /home/mlepekhin/anaconda3/lib/python3.7/site-packages (from torchtext) (2.22.0)\n",
      "Requirement already satisfied: tqdm in /home/mlepekhin/anaconda3/lib/python3.7/site-packages (from torchtext) (4.42.1)\n",
      "Requirement already satisfied: typing-extensions in /home/mlepekhin/anaconda3/lib/python3.7/site-packages (from torch==1.7.1->torchtext) (3.7.4.3)\n",
      "Requirement already satisfied: chardet<3.1.0,>=3.0.2 in /home/mlepekhin/anaconda3/lib/python3.7/site-packages (from requests->torchtext) (3.0.4)\n",
      "Requirement already satisfied: certifi>=2017.4.17 in /home/mlepekhin/anaconda3/lib/python3.7/site-packages (from requests->torchtext) (2019.11.28)\n",
      "Requirement already satisfied: urllib3!=1.25.0,!=1.25.1,<1.26,>=1.21.1 in /home/mlepekhin/anaconda3/lib/python3.7/site-packages (from requests->torchtext) (1.25.8)\n",
      "Requirement already satisfied: idna<2.9,>=2.5 in /home/mlepekhin/anaconda3/lib/python3.7/site-packages (from requests->torchtext) (2.8)\n"
     ]
    }
   ],
   "source": [
    "!pip install fasttext\n",
    "!pip install torchtext"
   ]
  },
  {
   "cell_type": "code",
   "execution_count": 2,
   "metadata": {},
   "outputs": [
    {
     "data": {
      "text/plain": [
       "array([-1.5945e-01, -1.8259e-01,  3.3443e-02,  1.8813e-01, -6.7903e-02,\n",
       "       -1.3663e-01, -2.5559e-01,  1.1000e-01,  1.7275e-01,  5.1971e-02,\n",
       "       -2.3302e-02,  3.8866e-02, -2.4515e-01, -2.1588e-01,  3.5925e-01,\n",
       "       -8.2526e-02,  1.2176e-01, -2.6775e-01,  1.0072e-01, -1.3639e-01,\n",
       "       -9.2658e-02,  5.1837e-01,  1.7736e-01,  9.4878e-02, -1.8461e-01,\n",
       "       -4.2829e-02,  1.4114e-02,  1.6811e-01, -1.8565e-01,  3.4976e-02,\n",
       "       -1.0293e-01,  1.7954e-01, -5.2766e-02,  7.2047e-02, -4.2704e-01,\n",
       "       -1.1616e-01, -9.4875e-03,  1.4199e-01, -2.2782e-01, -1.7292e-02,\n",
       "        8.2802e-02, -4.4512e-01, -7.5935e-02, -1.4392e-01, -8.2461e-02,\n",
       "        2.0123e-01, -9.5344e-02, -1.1042e-01, -4.6817e-01,  2.0362e-01,\n",
       "       -1.7140e-01, -4.9850e-01,  2.8963e-01, -1.0305e-01,  2.0393e-01,\n",
       "        5.2971e-01, -2.5396e-01, -5.1891e-01,  2.9941e-01,  1.7933e-01,\n",
       "        3.0683e-01,  2.5828e-01, -1.8168e-01, -1.0225e-01, -1.1435e-01,\n",
       "       -1.6304e-01, -1.2424e-01,  3.2814e-01, -2.3099e-01,  1.7912e-01,\n",
       "        9.9206e-02,  1.8595e-01,  2.7996e-01,  1.8323e-01, -1.7397e-01,\n",
       "        2.6633e-01, -1.8151e-02,  2.8386e-01,  1.7328e-01,  2.9131e-01,\n",
       "        8.2289e-02,  1.8560e-01, -1.5544e-01,  2.3311e-01,  3.6578e-01,\n",
       "       -3.0802e-01, -1.5908e-01,  4.0382e-01,  1.5332e-01, -1.1630e-01,\n",
       "        1.3978e-01,  6.4237e-02,  2.2087e-01,  8.2723e-02,  1.2785e-01,\n",
       "       -6.6854e-02, -2.3016e-02, -1.9224e-01, -5.4482e-02,  3.7509e-01,\n",
       "        5.1194e-01, -2.3650e-01, -7.1224e-02,  8.1112e-02, -3.2017e-01,\n",
       "        5.0264e-02, -3.3223e-01,  2.2167e-02,  9.9936e-02, -2.7215e-01,\n",
       "       -7.2833e-02, -3.6598e-01,  1.7541e-01, -3.1303e-01, -2.3134e-01,\n",
       "       -1.5491e-01,  3.2102e-01,  1.2347e-01,  7.3616e-02,  2.0575e-01,\n",
       "        6.1732e-01,  7.1909e-02, -3.6930e-01,  4.7641e-01,  1.7456e-01,\n",
       "        3.2928e-01,  2.8792e-01, -7.6989e-02,  2.7030e-01,  6.9828e-01,\n",
       "        4.6247e-01,  4.1444e-01, -5.3405e-01,  4.4302e-01,  1.1631e-01,\n",
       "       -2.3425e-01, -1.5030e-01, -6.8092e-02,  3.3537e-01,  2.8618e-01,\n",
       "       -3.9781e-02,  2.3245e-01,  3.6262e-01, -1.7151e-01, -3.5204e-01,\n",
       "        1.9951e-01,  1.1345e-01, -4.5134e-01, -3.9699e-03, -2.0620e-01,\n",
       "       -4.9251e-02,  1.0825e-01,  1.2571e-01, -2.8134e-01,  1.0355e-01,\n",
       "        7.3498e-02, -2.6716e-01, -1.0001e-01, -2.2600e-01,  3.0784e-01,\n",
       "        2.5934e-01, -1.8112e-03, -2.0522e-01, -2.5115e-01, -1.5368e-01,\n",
       "        5.6060e-02, -6.4802e-02,  9.2786e-03,  2.6150e-01, -9.3972e-02,\n",
       "       -3.1032e-01, -2.6632e-01, -1.9598e-01, -4.5088e-02, -2.7611e-02,\n",
       "       -7.7027e-02,  1.5070e-01,  1.7185e-01, -8.5416e-02, -1.4448e-01,\n",
       "       -2.4800e-03, -3.2881e-01, -1.6913e-01, -1.2778e-01, -2.3352e-01,\n",
       "        1.5178e-01, -6.9358e-01, -3.8922e-01,  3.7190e-01,  2.6020e-01,\n",
       "       -1.0232e-01, -6.0247e-01, -5.4548e-02,  6.6532e-01, -7.3208e-02,\n",
       "       -2.3644e-01, -2.5550e-01,  1.9755e-02, -4.8908e-01, -7.3706e-02,\n",
       "        3.0545e-01,  2.4459e-01,  2.0426e-01, -3.0128e-01,  6.0666e-02,\n",
       "        1.8107e-02, -9.6162e-02, -2.0348e-02, -1.9801e-04,  2.9652e-02,\n",
       "        5.0787e-01, -2.0225e-01, -6.1565e-02, -2.7330e-01, -3.7789e-01,\n",
       "       -2.4373e-01,  9.4902e-02, -3.7236e-01, -8.5854e-02,  2.4096e-01,\n",
       "       -1.7998e-01,  7.3902e-02, -7.8217e-04, -1.8559e-01, -2.6445e-01,\n",
       "       -2.3306e-02, -1.8644e-01, -1.0638e-01,  8.9330e-02,  4.1039e-01,\n",
       "        1.0452e-02, -9.8721e-03, -1.8335e-01, -2.8524e-01, -1.4771e-01,\n",
       "       -1.9499e-01, -1.0175e-01,  1.2292e-01,  8.3651e-02, -2.1228e-01,\n",
       "        3.4773e-02,  6.1831e-02,  2.9237e-01,  1.4371e-01, -9.2354e-02,\n",
       "        8.1267e-03,  2.7648e-01,  2.1753e-01,  2.6609e-01, -3.6083e-01,\n",
       "        2.8347e-01, -2.9295e-01, -2.6441e-01,  2.1056e-01,  3.2068e-01,\n",
       "       -1.6156e-01,  1.5298e-01, -1.5577e-01,  2.2035e-01, -1.1888e-01,\n",
       "        1.3766e-01, -9.9048e-02,  4.1584e-01, -3.6029e-02, -6.2504e-02,\n",
       "        3.3177e-01, -1.3997e-01,  8.7884e-02, -2.1428e-01, -6.2643e-01,\n",
       "       -3.1293e-01, -3.4895e-01,  5.2294e-01, -1.2635e-01, -1.9371e-01,\n",
       "       -2.0631e-01,  5.3758e-01, -1.1522e-01, -2.3659e-01,  2.0457e-01,\n",
       "        1.9534e-01,  3.3260e-01, -2.2254e-01,  8.1346e-02, -7.2798e-02,\n",
       "       -8.6357e-04, -1.0199e-01,  3.1601e-01,  2.0040e-01,  1.9014e-01,\n",
       "       -9.6766e-02,  2.5155e-01, -2.0484e-01, -4.5859e-01,  1.1687e-01,\n",
       "       -3.3574e-01, -3.3371e-01,  8.6787e-02,  2.4920e-01,  6.5367e-02],\n",
       "      dtype=float32)"
      ]
     },
     "execution_count": 2,
     "metadata": {},
     "output_type": "execute_result"
    }
   ],
   "source": [
    "from torchtext.vocab import FastText\n",
    "\n",
    "embedding = FastText('en')\n",
    "embedding['hello'].numpy()"
   ]
  },
  {
   "cell_type": "code",
   "execution_count": 3,
   "metadata": {},
   "outputs": [],
   "source": [
    "import numpy as np\n",
    "import pandas as pd\n",
    "import collections\n",
    "from tqdm import tqdm\n",
    "\n",
    "train_texts = list(pd.read_csv('/home/mlepekhin/data/en_train').text.values)\n",
    "test_texts = list(pd.read_csv('/home/mlepekhin/data/en_test').text.values)"
   ]
  },
  {
   "cell_type": "code",
   "execution_count": 4,
   "metadata": {},
   "outputs": [
    {
     "name": "stdout",
     "output_type": "stream",
     "text": [
      "mkdir: cannot create directory ‘en_fasttext_30000’: File exists\n",
      "mkdir: cannot create directory ‘en_fasttext_50000’: File exists\n",
      "mkdir: cannot create directory ‘en_fasttext_all’: File exists\n"
     ]
    }
   ],
   "source": [
    "!mkdir en_fasttext_30000\n",
    "!mkdir en_fasttext_50000\n",
    "!mkdir en_fasttext_all"
   ]
  },
  {
   "cell_type": "code",
   "execution_count": 5,
   "metadata": {},
   "outputs": [],
   "source": [
    "target_tokens = [token for text in train_texts + test_texts for token in text.lower().split()]\n",
    "token_count = collections.defaultdict(int)\n",
    "for token in target_tokens:\n",
    "    token_count[token] += 1\n",
    "token_count = sorted(token_count.items(), key=lambda item: (-item[1], item[0]))[:50000]\n",
    "token_count_dict = dict(token_count)"
   ]
  },
  {
   "cell_type": "code",
   "execution_count": 6,
   "metadata": {},
   "outputs": [],
   "source": [
    "def is_russian_word(s):\n",
    "    return all(['a' <= ch <= 'z' for ch in s.lower()])"
   ]
  },
  {
   "cell_type": "code",
   "execution_count": 7,
   "metadata": {},
   "outputs": [],
   "source": [
    "final_vocab = [pair[0] for pair in token_count\\\n",
    "               if is_russian_word(pair[0]) and np.linalg.norm(embedding[pair[0]].numpy()) > 0]\n",
    "word2index = {word: index for index, word in enumerate(final_vocab)}\n",
    "index2word = {index: word for index, word in enumerate(final_vocab)}\n",
    "embedding_matrix = [embedding[word].numpy() for word in final_vocab]\n",
    "embedding_matrix = np.array([vec / (np.linalg.norm(vec) if np.linalg.norm(vec) > 0.0001 else 1.0)\\\n",
    "                    for vec in embedding_matrix])"
   ]
  },
  {
   "cell_type": "code",
   "execution_count": 8,
   "metadata": {},
   "outputs": [
    {
     "name": "stdout",
     "output_type": "stream",
     "text": [
      "38555\n"
     ]
    }
   ],
   "source": [
    "print(len(final_vocab))"
   ]
  },
  {
   "cell_type": "code",
   "execution_count": 9,
   "metadata": {},
   "outputs": [],
   "source": [
    "import faiss"
   ]
  },
  {
   "cell_type": "code",
   "execution_count": 10,
   "metadata": {},
   "outputs": [],
   "source": [
    "dim = 300\n",
    "k = 50\n",
    "cluster_num = 1000  # количество “командиров”\n",
    "\n",
    "quantiser = faiss.IndexFlatL2(dim) \n",
    "index = faiss.IndexIVFFlat(quantiser, dim, cluster_num)\n",
    "index.nprobe = 16 "
   ]
  },
  {
   "cell_type": "code",
   "execution_count": 11,
   "metadata": {},
   "outputs": [],
   "source": [
    "index.train(embedding_matrix)\n",
    "index.add(embedding_matrix)"
   ]
  },
  {
   "cell_type": "code",
   "execution_count": 12,
   "metadata": {},
   "outputs": [
    {
     "name": "stdout",
     "output_type": "stream",
     "text": [
      "[[    0     1    28 ...   278   113    25]\n",
      " [    1     0     2 ...  3741   374  3073]\n",
      " [    2   145    96 ...   548  7541   578]\n",
      " ...\n",
      " [38552  8733 23990 ... 10692  9709 27710]\n",
      " [38553 38355 31416 ... 15048 23741 22595]\n",
      " [38554 37747 34412 ... 26182 22978 10672]]\n",
      "[[0.         0.4730763  0.672725   ... 1.0767486  1.0774659  1.0783682 ]\n",
      " [0.         0.4730763  0.7981688  ... 1.2046138  1.2053785  1.2070303 ]\n",
      " [0.         0.5823202  0.698479   ... 1.0188984  1.0192317  1.0207292 ]\n",
      " ...\n",
      " [0.         0.66974187 0.7857368  ... 0.93739283 0.94024545 0.9444096 ]\n",
      " [0.         0.9490695  0.9848088  ... 1.1236608  1.1236701  1.1242998 ]\n",
      " [0.         0.87755144 0.9235295  ... 1.1002364  1.1024427  1.1036191 ]]\n"
     ]
    }
   ],
   "source": [
    "D, I = index.search(embedding_matrix, k) \n",
    "print(I)\n",
    "print(D)"
   ]
  },
  {
   "cell_type": "code",
   "execution_count": 13,
   "metadata": {},
   "outputs": [],
   "source": [
    "import pickle\n",
    "\n",
    "np.save('en_fasttext_50000/nn_matrix.npy', I)\n",
    "np.save('en_fasttext_50000/embeddings_matrix.npy', embedding_matrix)\n",
    "pickle.dump(word2index, open('en_fasttext_50000/word2index.pcl', 'wb'))\n",
    "pickle.dump(index2word, open('en_fasttext_50000/index2word.pcl', 'wb'))"
   ]
  },
  {
   "cell_type": "code",
   "execution_count": 14,
   "metadata": {},
   "outputs": [],
   "source": [
    "?pickle.dump"
   ]
  },
  {
   "cell_type": "code",
   "execution_count": 21,
   "metadata": {},
   "outputs": [
    {
     "data": {
      "text/plain": [
       "0.9999999999999999"
      ]
     },
     "execution_count": 21,
     "metadata": {},
     "output_type": "execute_result"
    }
   ],
   "source": [
    "np.linalg.norm(np.array([1, 1]) / np.linalg.norm([1, 1]))"
   ]
  },
  {
   "cell_type": "code",
   "execution_count": null,
   "metadata": {},
   "outputs": [],
   "source": []
  }
 ],
 "metadata": {
  "kernelspec": {
   "display_name": "Python 3",
   "language": "python",
   "name": "python3"
  },
  "language_info": {
   "codemirror_mode": {
    "name": "ipython",
    "version": 3
   },
   "file_extension": ".py",
   "mimetype": "text/x-python",
   "name": "python",
   "nbconvert_exporter": "python",
   "pygments_lexer": "ipython3",
   "version": "3.7.6"
  }
 },
 "nbformat": 4,
 "nbformat_minor": 5
}

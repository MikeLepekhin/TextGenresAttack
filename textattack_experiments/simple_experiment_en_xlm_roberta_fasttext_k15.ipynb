{
 "cells": [
  {
   "cell_type": "code",
   "execution_count": 1,
   "id": "future-letter",
   "metadata": {},
   "outputs": [
    {
     "name": "stderr",
     "output_type": "stream",
     "text": [
      "Some weights of the model checkpoint at xlm-roberta-base were not used when initializing XLMRobertaForSequenceClassification: ['lm_head.bias', 'lm_head.dense.weight', 'lm_head.dense.bias', 'lm_head.layer_norm.weight', 'lm_head.layer_norm.bias', 'lm_head.decoder.weight', 'roberta.pooler.dense.weight', 'roberta.pooler.dense.bias']\n",
      "- This IS expected if you are initializing XLMRobertaForSequenceClassification from the checkpoint of a model trained on another task or with another architecture (e.g. initializing a BertForSequenceClassification model from a BertForPreTraining model).\n",
      "- This IS NOT expected if you are initializing XLMRobertaForSequenceClassification from the checkpoint of a model that you expect to be exactly identical (initializing a BertForSequenceClassification model from a BertForSequenceClassification model).\n",
      "Some weights of XLMRobertaForSequenceClassification were not initialized from the model checkpoint at xlm-roberta-base and are newly initialized: ['classifier.dense.weight', 'classifier.dense.bias', 'classifier.out_proj.weight', 'classifier.out_proj.bias']\n",
      "You should probably TRAIN this model on a down-stream task to be able to use it for predictions and inference.\n"
     ]
    }
   ],
   "source": [
    "from en_test import dataset, labels\n",
    "from en_xlm_roberta_model import *"
   ]
  },
  {
   "cell_type": "code",
   "execution_count": 15,
   "id": "automotive-vulnerability",
   "metadata": {},
   "outputs": [],
   "source": [
    "en_test = pd.read_csv('/home/mlepekhin/data/en_train')\n",
    "labels = np.unique(sorted(en_test.target.values))\n",
    "\n",
    "label_to_id = {label: label_id for label_id, label in enumerate(labels)}\n",
    "id_to_label = {label_id: label for label_id, label in enumerate(labels)}"
   ]
  },
  {
   "cell_type": "code",
   "execution_count": 3,
   "id": "external-seeker",
   "metadata": {},
   "outputs": [],
   "source": [
    "from textattack.constraints.grammaticality import PartOfSpeech\n",
    "from textattack.constraints.pre_transformation import (\n",
    "    InputColumnModification,\n",
    "    RepeatModification,\n",
    "    StopwordModification,\n",
    ")\n",
    "from textattack.constraints.semantics import WordEmbeddingDistance\n",
    "from textattack.constraints.semantics.sentence_encoders import UniversalSentenceEncoder\n",
    "\n",
    "from textattack.attack_recipes import TextFoolerJin2019\n",
    "from textattack.goal_functions import UntargetedClassification\n",
    "from textattack.search_methods import GreedyWordSwapWIR\n",
    "from textattack.transformations import WordSwapEmbedding\n",
    "from textattack.shared.attack import Attack\n",
    "\n",
    "from textattack.shared import WordEmbedding"
   ]
  },
  {
   "cell_type": "code",
   "execution_count": 4,
   "id": "governmental-lecture",
   "metadata": {},
   "outputs": [],
   "source": [
    "import numpy as np\n",
    "import pickle\n",
    "\n",
    "embedding_matrix = np.load('en_fasttext_30000/embeddings_matrix.npy')\n",
    "nn_matrix = np.load('en_fasttext_30000/nn_matrix.npy')\n",
    "index2word = pickle.load(open('en_fasttext_30000/index2word.pcl', 'rb'))\n",
    "word2index = pickle.load(open('en_fasttext_30000/word2index.pcl', 'rb'))"
   ]
  },
  {
   "cell_type": "code",
   "execution_count": 5,
   "id": "suburban-injection",
   "metadata": {},
   "outputs": [],
   "source": [
    "import collections\n",
    "\n",
    "smart_word2index = collections.defaultdict(int, word2index)\n",
    "smart_index2word = collections.defaultdict(str, index2word)"
   ]
  },
  {
   "cell_type": "code",
   "execution_count": 6,
   "id": "ordered-intention",
   "metadata": {},
   "outputs": [],
   "source": [
    "en_fasttext_embedding = WordEmbedding(embedding_matrix, word2index, index2word, nn_matrix)"
   ]
  },
  {
   "cell_type": "code",
   "execution_count": 7,
   "id": "missing-caribbean",
   "metadata": {},
   "outputs": [],
   "source": [
    "def build_textfooler(model):\n",
    "    #\n",
    "    # Swap words with their 50 closest embedding nearest-neighbors.\n",
    "    # Embedding: Counter-fitted PARAGRAM-SL999 vectors.\n",
    "    #\n",
    "    transformation = WordSwapEmbedding(max_candidates=15, embedding=en_fasttext_embedding)\n",
    "    #\n",
    "    # Don't modify the same word twice or the stopwords defined\n",
    "    # in the TextFooler public implementation.\n",
    "    #\n",
    "    # fmt: off\n",
    "    # fmt: on\n",
    "    constraints = [RepeatModification()]\n",
    "    #\n",
    "    # During entailment, we should only edit the hypothesis - keep the premise\n",
    "    # the same.\n",
    "    #\n",
    "    input_column_modification = InputColumnModification(\n",
    "        [\"premise\", \"hypothesis\"], {\"premise\"}\n",
    "    )\n",
    "    constraints.append(input_column_modification)\n",
    "    # Minimum word embedding cosine similarity of 0.5.\n",
    "    # (The paper claims 0.7, but analysis of the released code and some empirical\n",
    "    # results show that it's 0.5.)\n",
    "    #\n",
    "    \n",
    "    constraints.append(WordEmbeddingDistance(min_cos_sim=0.5))\n",
    "    \n",
    "    #\n",
    "    # Only replace words with the same part of speech (or nouns with verbs)\n",
    "    #\n",
    "    \n",
    "    #constraints.append(PartOfSpeech(allow_verb_noun_swap=True))\n",
    "    \n",
    "    #\n",
    "    # Universal Sentence Encoder with a minimum angular similarity of ε = 0.5.\n",
    "    #\n",
    "    # In the TextFooler code, they forget to divide the angle between the two\n",
    "    # embeddings by pi. So if the original threshold was that 1 - sim >= 0.5, the\n",
    "    # new threshold is 1 - (0.5) / pi = 0.840845057\n",
    "    #\n",
    "    use_constraint = UniversalSentenceEncoder(\n",
    "        threshold=0.84,\n",
    "        metric=\"angular\",\n",
    "        compare_against_original=False,\n",
    "        window_size=15,\n",
    "        skip_text_shorter_than_window=True,\n",
    "    )\n",
    "    constraints.append(use_constraint)\n",
    "    #\n",
    "    # Goal is untargeted classification\n",
    "    #\n",
    "    goal_function = UntargetedClassification(model)\n",
    "    #\n",
    "    # Greedily swap words with \"Word Importance Ranking\".\n",
    "    #\n",
    "    search_method = GreedyWordSwapWIR(wir_method=\"delete\")\n",
    "\n",
    "    return Attack(goal_function, constraints, transformation, search_method)"
   ]
  },
  {
   "cell_type": "code",
   "execution_count": 8,
   "id": "excited-forestry",
   "metadata": {},
   "outputs": [],
   "source": [
    "#recipe = TextFoolerJin2019(\n",
    "#    goal_function=UntargetedClassification(model), \n",
    "#    search_method=GreedyWordSwapWIR(wir_method=\"delete\"),\n",
    "#    transformation=WordSwapEmbedding(max_candidates=50),\n",
    "#)\n",
    "#recipe.constraints = constraints"
   ]
  },
  {
   "cell_type": "code",
   "execution_count": 9,
   "id": "first-action",
   "metadata": {},
   "outputs": [],
   "source": [
    "import pandas as pd\n",
    "\n",
    "result_df = pd.DataFrame({'attack_result': [], 'cross_val_batch': []})"
   ]
  },
  {
   "cell_type": "code",
   "execution_count": 10,
   "id": "danish-notion",
   "metadata": {},
   "outputs": [],
   "source": [
    "dataset_names = [f'en_train_crossval_{fold_id}' for fold_id in range(5)]\n",
    "model_names = [f'xlm_roberta_model_en_crossval_{fold_id}' for fold_id in range(5)]"
   ]
  },
  {
   "cell_type": "code",
   "execution_count": 11,
   "id": "random-penetration",
   "metadata": {},
   "outputs": [
    {
     "name": "stdout",
     "output_type": "stream",
     "text": [
      "11 LABELS\n"
     ]
    },
    {
     "name": "stderr",
     "output_type": "stream",
     "text": [
      "Some weights of the model checkpoint at xlm-roberta-base were not used when initializing XLMRobertaForSequenceClassification: ['lm_head.bias', 'lm_head.dense.weight', 'lm_head.dense.bias', 'lm_head.layer_norm.weight', 'lm_head.layer_norm.bias', 'lm_head.decoder.weight', 'roberta.pooler.dense.weight', 'roberta.pooler.dense.bias']\n",
      "- This IS expected if you are initializing XLMRobertaForSequenceClassification from the checkpoint of a model trained on another task or with another architecture (e.g. initializing a BertForSequenceClassification model from a BertForPreTraining model).\n",
      "- This IS NOT expected if you are initializing XLMRobertaForSequenceClassification from the checkpoint of a model that you expect to be exactly identical (initializing a BertForSequenceClassification model from a BertForSequenceClassification model).\n",
      "Some weights of XLMRobertaForSequenceClassification were not initialized from the model checkpoint at xlm-roberta-base and are newly initialized: ['classifier.dense.weight', 'classifier.dense.bias', 'classifier.out_proj.weight', 'classifier.out_proj.bias']\n",
      "You should probably TRAIN this model on a down-stream task to be able to use it for predictions and inference.\n",
      "Using /home/mlepekhin/textattack_experiments/tfhub_modules to cache modules.\n",
      "\u001b[34;1mtextattack\u001b[0m: Unknown if model of class <class 'transformers.models.xlm_roberta.modeling_xlm_roberta.XLMRobertaForSequenceClassification'> compatible with goal function <class 'textattack.goal_functions.classification.untargeted_classification.UntargetedClassification'>.\n",
      "253it [20:14,  4.80s/it]\n"
     ]
    },
    {
     "name": "stdout",
     "output_type": "stream",
     "text": [
      "11 LABELS\n"
     ]
    },
    {
     "name": "stderr",
     "output_type": "stream",
     "text": [
      "Some weights of the model checkpoint at xlm-roberta-base were not used when initializing XLMRobertaForSequenceClassification: ['lm_head.bias', 'lm_head.dense.weight', 'lm_head.dense.bias', 'lm_head.layer_norm.weight', 'lm_head.layer_norm.bias', 'lm_head.decoder.weight', 'roberta.pooler.dense.weight', 'roberta.pooler.dense.bias']\n",
      "- This IS expected if you are initializing XLMRobertaForSequenceClassification from the checkpoint of a model trained on another task or with another architecture (e.g. initializing a BertForSequenceClassification model from a BertForPreTraining model).\n",
      "- This IS NOT expected if you are initializing XLMRobertaForSequenceClassification from the checkpoint of a model that you expect to be exactly identical (initializing a BertForSequenceClassification model from a BertForSequenceClassification model).\n",
      "Some weights of XLMRobertaForSequenceClassification were not initialized from the model checkpoint at xlm-roberta-base and are newly initialized: ['classifier.dense.weight', 'classifier.dense.bias', 'classifier.out_proj.weight', 'classifier.out_proj.bias']\n",
      "You should probably TRAIN this model on a down-stream task to be able to use it for predictions and inference.\n",
      "\u001b[34;1mtextattack\u001b[0m: Unknown if model of class <class 'transformers.models.xlm_roberta.modeling_xlm_roberta.XLMRobertaForSequenceClassification'> compatible with goal function <class 'textattack.goal_functions.classification.untargeted_classification.UntargetedClassification'>.\n",
      "253it [14:44,  3.50s/it]\n"
     ]
    },
    {
     "name": "stdout",
     "output_type": "stream",
     "text": [
      "11 LABELS\n"
     ]
    },
    {
     "name": "stderr",
     "output_type": "stream",
     "text": [
      "Some weights of the model checkpoint at xlm-roberta-base were not used when initializing XLMRobertaForSequenceClassification: ['lm_head.bias', 'lm_head.dense.weight', 'lm_head.dense.bias', 'lm_head.layer_norm.weight', 'lm_head.layer_norm.bias', 'lm_head.decoder.weight', 'roberta.pooler.dense.weight', 'roberta.pooler.dense.bias']\n",
      "- This IS expected if you are initializing XLMRobertaForSequenceClassification from the checkpoint of a model trained on another task or with another architecture (e.g. initializing a BertForSequenceClassification model from a BertForPreTraining model).\n",
      "- This IS NOT expected if you are initializing XLMRobertaForSequenceClassification from the checkpoint of a model that you expect to be exactly identical (initializing a BertForSequenceClassification model from a BertForSequenceClassification model).\n",
      "Some weights of XLMRobertaForSequenceClassification were not initialized from the model checkpoint at xlm-roberta-base and are newly initialized: ['classifier.dense.weight', 'classifier.dense.bias', 'classifier.out_proj.weight', 'classifier.out_proj.bias']\n",
      "You should probably TRAIN this model on a down-stream task to be able to use it for predictions and inference.\n",
      "\u001b[34;1mtextattack\u001b[0m: Unknown if model of class <class 'transformers.models.xlm_roberta.modeling_xlm_roberta.XLMRobertaForSequenceClassification'> compatible with goal function <class 'textattack.goal_functions.classification.untargeted_classification.UntargetedClassification'>.\n",
      "253it [19:44,  4.68s/it]\n"
     ]
    },
    {
     "name": "stdout",
     "output_type": "stream",
     "text": [
      "11 LABELS\n"
     ]
    },
    {
     "name": "stderr",
     "output_type": "stream",
     "text": [
      "Some weights of the model checkpoint at xlm-roberta-base were not used when initializing XLMRobertaForSequenceClassification: ['lm_head.bias', 'lm_head.dense.weight', 'lm_head.dense.bias', 'lm_head.layer_norm.weight', 'lm_head.layer_norm.bias', 'lm_head.decoder.weight', 'roberta.pooler.dense.weight', 'roberta.pooler.dense.bias']\n",
      "- This IS expected if you are initializing XLMRobertaForSequenceClassification from the checkpoint of a model trained on another task or with another architecture (e.g. initializing a BertForSequenceClassification model from a BertForPreTraining model).\n",
      "- This IS NOT expected if you are initializing XLMRobertaForSequenceClassification from the checkpoint of a model that you expect to be exactly identical (initializing a BertForSequenceClassification model from a BertForSequenceClassification model).\n",
      "Some weights of XLMRobertaForSequenceClassification were not initialized from the model checkpoint at xlm-roberta-base and are newly initialized: ['classifier.dense.weight', 'classifier.dense.bias', 'classifier.out_proj.weight', 'classifier.out_proj.bias']\n",
      "You should probably TRAIN this model on a down-stream task to be able to use it for predictions and inference.\n",
      "\u001b[34;1mtextattack\u001b[0m: Unknown if model of class <class 'transformers.models.xlm_roberta.modeling_xlm_roberta.XLMRobertaForSequenceClassification'> compatible with goal function <class 'textattack.goal_functions.classification.untargeted_classification.UntargetedClassification'>.\n",
      "253it [15:32,  3.69s/it]\n"
     ]
    },
    {
     "name": "stdout",
     "output_type": "stream",
     "text": [
      "11 LABELS\n"
     ]
    },
    {
     "name": "stderr",
     "output_type": "stream",
     "text": [
      "Some weights of the model checkpoint at xlm-roberta-base were not used when initializing XLMRobertaForSequenceClassification: ['lm_head.bias', 'lm_head.dense.weight', 'lm_head.dense.bias', 'lm_head.layer_norm.weight', 'lm_head.layer_norm.bias', 'lm_head.decoder.weight', 'roberta.pooler.dense.weight', 'roberta.pooler.dense.bias']\n",
      "- This IS expected if you are initializing XLMRobertaForSequenceClassification from the checkpoint of a model trained on another task or with another architecture (e.g. initializing a BertForSequenceClassification model from a BertForPreTraining model).\n",
      "- This IS NOT expected if you are initializing XLMRobertaForSequenceClassification from the checkpoint of a model that you expect to be exactly identical (initializing a BertForSequenceClassification model from a BertForSequenceClassification model).\n",
      "Some weights of XLMRobertaForSequenceClassification were not initialized from the model checkpoint at xlm-roberta-base and are newly initialized: ['classifier.dense.weight', 'classifier.dense.bias', 'classifier.out_proj.weight', 'classifier.out_proj.bias']\n",
      "You should probably TRAIN this model on a down-stream task to be able to use it for predictions and inference.\n",
      "\u001b[34;1mtextattack\u001b[0m: Unknown if model of class <class 'transformers.models.xlm_roberta.modeling_xlm_roberta.XLMRobertaForSequenceClassification'> compatible with goal function <class 'textattack.goal_functions.classification.untargeted_classification.UntargetedClassification'>.\n",
      "252it [18:09,  4.32s/it]\n"
     ]
    }
   ],
   "source": [
    "from tqdm import tqdm\n",
    "\n",
    "for batch_id, (dataset_name, model_name) in enumerate(zip(dataset_names, model_names)):\n",
    "    cur_dataset = __import__(dataset_name).dataset\n",
    "    cur_model = __import__(model_name).model\n",
    "    attacker = build_textfooler(cur_model)\n",
    "    for idx, result in tqdm(enumerate(attacker.attack_dataset(cur_dataset))):\n",
    "        result_df = result_df.append({\n",
    "            'attack_result': result.__str__(color_method='html'),\n",
    "            'cross_val_batch': batch_id\n",
    "        }, ignore_index=True)\n",
    "        #print(('x' * 20), f'Result {idx+1}', ('x' * 20))\n",
    "        #print(result.__str__(color_method='html'))\n",
    "        #print(len(str(result).split('\\n\\n')))\n",
    "    result_df.to_csv('en_xlm_roberta_cross_val_result.csv')\n",
    "    del cur_model\n"
   ]
  },
  {
   "cell_type": "code",
   "execution_count": 12,
   "id": "incredible-greensboro",
   "metadata": {},
   "outputs": [
    {
     "name": "stdout",
     "output_type": "stream",
     "text": [
      "1264\n"
     ]
    }
   ],
   "source": [
    "print(len(result_df))"
   ]
  },
  {
   "cell_type": "code",
   "execution_count": null,
   "id": "equal-niagara",
   "metadata": {},
   "outputs": [],
   "source": []
  },
  {
   "cell_type": "code",
   "execution_count": 13,
   "id": "hispanic-remains",
   "metadata": {},
   "outputs": [],
   "source": [
    "def remove_color_tags(text):\n",
    "    text = re.sub(r'<font color = [a-zA-Z]+>', ' ', text)\n",
    "    text = re.sub(r'</font>', ' ', text)\n",
    "    text = text.replace('  ', ' ')\n",
    "    return text"
   ]
  },
  {
   "cell_type": "code",
   "execution_count": 16,
   "id": "spatial-wrong",
   "metadata": {},
   "outputs": [
    {
     "name": "stdout",
     "output_type": "stream",
     "text": [
      "['A12', 'A4', 'A1', 'A1', 'A12', 'A9', 'A12', 'A1', 'A8', 'A14', 'A11', 'A22', 'A4', 'A7', 'A14', 'A14', 'A22', 'A8', 'A14', 'A12', 'A22', 'A1', 'A9', 'A1', 'A12', 'A7', 'A16', 'A12', 'A7', 'A12', 'A4', 'A1', 'A1', 'A16', 'A7', 'A8', 'A11', 'A1', 'A8', 'A12', 'A12', 'A9', 'A1', 'A1', 'A1', 'A16', 'A7', 'A9', 'A12', 'A7', 'A8', 'A7', 'A4', 'A12', 'A11', 'A1', 'A8', 'A4', 'A12', 'A17', 'A7', 'A7', 'A7', 'A1', 'A22', 'A16', 'A14', 'A4', 'A1', 'A1', 'A17', 'A16', 'A9', 'A1', 'A7', 'A8', 'A8', 'A22', 'A1', 'A16', 'A7', 'A8', 'A1', 'A9', 'A22', 'A14', 'A14', 'A12', 'A12', 'A16', 'A12', 'A4', 'A8', 'A16', 'A1', 'A9', 'A14', 'A1', 'A4', 'A1', 'A4', 'A9', 'A9', 'A1', 'A22', 'A7', 'A7', 'A16', 'A16', 'A16', 'A7', 'A1', 'A7', 'A11', 'A12', 'A1', 'A16', 'A7', 'A7', 'A8', 'A1', 'A8', 'A16', 'A7', 'A14', 'A14', 'A12', 'A11', 'A4', 'A7', 'A11', 'A9', 'A1', 'A12', 'A12', 'A1', 'A9', 'A8', 'A16', 'A12', 'A16', 'A7', 'A7', 'A4', 'A1', 'A8', 'A16', 'A1', 'A7', 'A11', 'A7', 'A12', 'A8', 'A11', 'A1', 'A1', 'A7', 'A16', 'A1', 'A16', 'A8', 'A7', 'A1', 'A9', 'A12', 'A16', 'A7', 'A1', 'A1', 'A16', 'A16', 'A1', 'A14', 'A12', 'A1', 'A12', 'A12', 'A12', 'A17', 'A8', 'A16', 'A1', 'A1', 'A12', 'A11', 'A4', 'A14', 'A1', 'A16', 'A11', 'A1', 'A7', 'A14', 'A22', 'A16', 'A1', 'A9', 'A22', 'A16', 'A12', 'A1', 'A12', 'A7', 'A1', 'A22', 'A22', 'A7', 'A11', 'A22', 'A14', 'A16', 'A4', 'A17', 'A4', 'A1', 'A22', 'A7', 'A9', 'A4', 'A1', 'A12', 'A12', 'A16', 'A7', 'A17', 'A16', 'A1', 'A4', 'A16', 'A14', 'A7', 'A16', 'A14', 'A11', 'A14', 'A12', 'A9', 'A17', 'A14', 'A1', 'A12', 'A12', 'A1', 'A8', 'A7', 'A7', 'A8', 'A1', 'A1', 'A11', 'A12', 'A8', 'A7', 'A12', 'A16', 'A22', 'A11', 'A16', 'A1', 'A12', 'A22', 'A17', 'A17', 'A1', 'A1', 'A8', 'A7', 'A11', 'A11', 'A7', 'A1', 'A17', 'A22', 'A1', 'A12', 'A12', 'A7', 'A14', 'A1', 'A1', 'A14', 'A16', 'A9', 'A8', 'A16', 'A7', 'A1', 'A12', 'A8', 'A9', 'A16', 'A12', 'A1', 'A12', 'A8', 'A17', 'A12', 'A8', 'A4', 'A9', 'A7', 'A4', 'A14', 'A12', 'A1', 'A14', 'A22', 'A1', 'A8', 'A17', 'A4', 'A9', 'A8', 'A1', 'A8', 'A7', 'A12', 'A4', 'A22', 'A8', 'A1', 'A4', 'A12', 'A12', 'A14', 'A1', 'A17', 'A7', 'A1', 'A17', 'A7', 'A8', 'A22', 'A11', 'A4', 'A16', 'A1', 'A7', 'A7', 'A7', 'A12', 'A12', 'A22', 'A22', 'A1', 'A1', 'A7', 'A1', 'A1', 'A16', 'A12', 'A12', 'A4', 'A8', 'A12', 'A7', 'A12', 'A16', 'A12', 'A9', 'A1', 'A22', 'A14', 'A8', 'A8', 'A16', 'A1', 'A1', 'A7', 'A1', 'A7', 'A1', 'A1', 'A1', 'A16', 'A7', 'A7', 'A12', 'A16', 'A17', 'A16', 'A7', 'A4', 'A1', 'A7', 'A11', 'A12', 'A17', 'A12', 'A12', 'A8', 'A7', 'A17', 'A16', 'A1', 'A12', 'A12', 'A16', 'A1', 'A12', 'A12', 'A8', 'A9', 'A12', 'A17', 'A1', 'A7', 'A12', 'A7', 'A16', 'A16', 'A8', 'A4', 'A9', 'A8', 'A16', 'A4', 'A12', 'A16', 'A22', 'A1', 'A1', 'A7', 'A12', 'A9', 'A1', 'A12', 'A1', 'A4', 'A22', 'A16', 'A14', 'A11', 'A17', 'A22', 'A12', 'A11', 'A1', 'A8', 'A8', 'A1', 'A12', 'A16', 'A22', 'A1', 'A4', 'A12', 'A14', 'A7', 'A1', 'A11', 'A8', 'A14', 'A16', 'A16', 'A4', 'A16', 'A8', 'A12', 'A14', 'A12', 'A22', 'A16', 'A9', 'A1', 'A12', 'A11', 'A14', 'A12', 'A22', 'A12', 'A8', 'A7', 'A12', 'A11', 'A1', 'A14', 'A12', 'A7', 'A22', 'A12', 'A12', 'A22', 'A14', 'A16', 'A1', 'A16', 'A1', 'A8', 'A8', 'A17', 'A8', 'A22', 'A1', 'A1', 'A14', 'A16', 'A22', 'A11', 'A1', 'A11', 'A1', 'A1', 'A16', 'A8', 'A1', 'A1', 'A16', 'A1', 'A12', 'A1', 'A11', 'A1', 'A4', 'A1', 'A22', 'A12', 'A1', 'A12', 'A22', 'A8', 'A12', 'A1', 'A12', 'A12', 'A16', 'A16', 'A7', 'A12', 'A12', 'A9', 'A22', 'A1', 'A1', 'A12', 'A9', 'A1', 'A1', 'A22', 'A8', 'A17', 'A7', 'A12', 'A1', 'A11', 'A16', 'A16', 'A8', 'A14', 'A16', 'A1', 'A8', 'A1', 'A12', 'A12', 'A8', 'A16', 'A22', 'A1', 'A16', 'A12', 'A1', 'A1', 'A8', 'A1', 'A16', 'A8', 'A11', 'A12', 'A17', 'A8', 'A1', 'A1', 'A1', 'A11', 'A9', 'A16', 'A16', 'A1', 'A1', 'A16', 'A1', 'A12', 'A8', 'A16', 'A8', 'A7', 'A11', 'A1', 'A7', 'A12', 'A7', 'A16', 'A1', 'A12', 'A9', 'A22', 'A14', 'A1', 'A12', 'A11', 'A7', 'A8', 'A1', 'A12', 'A12', 'A8', 'A12', 'A12', 'A12', 'A1', 'A12', 'A8', 'A11', 'A9', 'A22', 'A1', 'A9', 'A16', 'A1', 'A1', 'A16', 'A7', 'A8', 'A4', 'A1', 'A4', 'A16', 'A1', 'A1', 'A17', 'A1', 'A1', 'A8', 'A17', 'A22', 'A1', 'A11', 'A16', 'A12', 'A8', 'A1', 'A7', 'A17', 'A22', 'A8', 'A12', 'A1', 'A12', 'A16', 'A11', 'A12', 'A1', 'A14', 'A14', 'A9', 'A11', 'A12', 'A14', 'A1', 'A1', 'A16', 'A1', 'A9', 'A11', 'A1', 'A7', 'A9', 'A1', 'A7', 'A4', 'A9', 'A8', 'A1', 'A1', 'A12', 'A4', 'A12', 'A12', 'A22', 'A1', 'A1', 'A12', 'A1', 'A12', 'A12', 'A4', 'A1', 'A8', 'A22', 'A4', 'A9', 'A7', 'A8', 'A22', 'A1', 'A17', 'A7', 'A9', 'A8', 'A4', 'A4', 'A1', 'A12', 'A1', 'A11', 'A4', 'A22', 'A12', 'A1', 'A9', 'A1', 'A7', 'A12', 'A16', 'A12', 'A8', 'A1', 'A1', 'A7', 'A16', 'A1', 'A1', 'A12', 'A1', 'A7', 'A11', 'A7', 'A1', 'A14', 'A8', 'A17', 'A12', 'A16', 'A4', 'A4', 'A12', 'A4', 'A16', 'A7', 'A16', 'A1', 'A7', 'A12', 'A16', 'A8', 'A11', 'A11', 'A11', 'A1', 'A9', 'A1', 'A12', 'A1', 'A1', 'A1', 'A7', 'A17', 'A16', 'A22', 'A11', 'A9', 'A17', 'A11', 'A12', 'A9', 'A14', 'A8', 'A16', 'A7', 'A7', 'A11', 'A1', 'A16', 'A7', 'A12', 'A12', 'A14', 'A7', 'A7', 'A7', 'A1', 'A4', 'A12', 'A12', 'A12', 'A17', 'A12', 'A11', 'A8', 'A12', 'A11', 'A22', 'A22', 'A7', 'A1', 'A1', 'A11', 'A12', 'A12', 'A1', 'A1', 'A22', 'A7', 'A17', 'A16', 'A1', 'A1', 'A4', 'A12', 'A1', 'A11', 'A8', 'A12', 'A12', 'A16', 'A4', 'A8', 'A12', 'A16', 'A7', 'A8', 'A7', 'A1', 'A11', 'A11', 'A16', 'A1', 'A7', 'A22', 'A22', 'A16', 'A1', 'A11', 'A22', 'A12', 'A8', 'A1', 'A1', 'A1', 'A22', 'A22', 'A14', 'A4', 'A12', 'A7', 'A14', 'A7', 'A1', 'A1', 'A22', 'A7', 'A1', 'A14', 'A7', 'A11', 'A12', 'A9', 'A1', 'A1', 'A17', 'A12', 'A16', 'A7', 'A17', 'A1', 'A12', 'A12', 'A1', 'A1', 'A16', 'A7', 'A12', 'A22', 'A4', 'A16', 'A1', 'A22', 'A22', 'A12', 'A16', 'A14', 'A11', 'A8', 'A1', 'A16', 'A8', 'A1', 'A16', 'A1', 'A7', 'A9', 'A11', 'A12', 'A11', 'A12', 'A1', 'A7', 'A16', 'A17', 'A22', 'A22', 'A12', 'A7', 'A11', 'A8', 'A8', 'A7', 'A1', 'A8', 'A11', 'A7', 'A22', 'A22', 'A4', 'A22', 'A9', 'A7', 'A12', 'A9', 'A11', 'A1', 'A16', 'A12', 'A7', 'A4', 'A16', 'A8', 'A1', 'A1', 'A7', 'A16', 'A12', 'A1', 'A7', 'A7', 'A1', 'A1', 'A1', 'A12', 'A12', 'A12', 'A16', 'A16', 'A11', 'A7', 'A17', 'A1', 'A14', 'A1', 'A17', 'A12', 'A12', 'A4', 'A8', 'A12', 'A1', 'A1', 'A17', 'A12', 'A16', 'A12', 'A7', 'A22', 'A1', 'A8', 'A12', 'A16', 'A8', 'A12', 'A1', 'A8', 'A8', 'A1', 'A11', 'A16', 'A1', 'A22', 'A4', 'A8', 'A12', 'A12', 'A16', 'A1', 'A16', 'A11', 'A7', 'A7', 'A1', 'A1', 'A9', 'A4', 'A1', 'A12', 'A16', 'A16', 'A7', 'A1', 'A7', 'A8', 'A12', 'A1', 'A12', 'A14', 'A17', 'A1', 'A4', 'A22', 'A8', 'A12', 'A1', 'A12', 'A14', 'A22', 'A22', 'A12', 'A7', 'A12', 'A8', 'A11', 'A12', 'A12', 'A1', 'A1', 'A12', 'A4', 'A11', 'A17', 'A7', 'A22', 'A8', 'A12', 'A12', 'A12', 'A4', 'A1', 'A1', 'A12', 'A16', 'A1', 'A17', 'A1', 'A1', 'A1', 'A12', 'A7', 'A12', 'A1', 'A1', 'A12', 'A4', 'A16', 'A1', 'A8', 'A12', 'A7', 'A1', 'A1', 'A1', 'A16', 'A1', 'A16', 'A4', 'A14', 'A12', 'A12', 'A8', 'A4', 'A22', 'A12', 'A4', 'A7', 'A12', 'A8', 'A22', 'A1', 'A8', 'A7', 'A12', 'A12', 'A8', 'A12', 'A8', 'A1', 'A1', 'A22', 'A12', 'A12', 'A16', 'A16', 'A14', 'A16', 'A14', 'A12', 'A11', 'A8', 'A11', 'A22', 'A9', 'A1', 'A17', 'A9', 'A14', 'A8', 'A1', 'A12', 'A1', 'A7', 'A12', 'A9', 'A22', 'A7', 'A1', 'A7', 'A1', 'A12', 'A12', 'A1', 'A1', 'A7', 'A1', 'A17', 'A12', 'A22', 'A1', 'A9', 'A12', 'A11', 'A12', 'A8', 'A12', 'A1', 'A11', 'A1', 'A1', 'A14', 'A9', 'A1', 'A16', 'A22', 'A14', 'A12', 'A12', 'A1', 'A8', 'A4', 'A8', 'A7', 'A1', 'A8', 'A1', 'A17', 'A16', 'A8', 'A12', 'A16', 'A4', 'A4', 'A4', 'A12', 'A12', 'A7', 'A7', 'A11', 'A14', 'A11', 'A1', 'A7', 'A7', 'A12', 'A16', 'A22', 'A12', 'A12', 'A1', 'A8', 'A12', 'A1', 'A7', 'A12', 'A7', 'A16', 'A1', 'A16', 'A7', 'A4', 'A12', 'A11', 'A12', 'A14', 'A1', 'A1', 'A16', 'A9', 'A12', 'A7', 'A4', 'A16', 'A1', 'A7', 'A1', 'A1', 'A1', 'A8', 'A17', 'A7', 'A1', 'A1', 'A1', 'A8', 'A14', 'A7', 'A16', 'A1', 'A9', 'A17', 'A16', 'A4', 'A1', 'A7', 'A8', 'A8', 'A12', 'A9', 'A7', 'A9', 'A4', 'A17', 'A1', 'A22', 'A16', 'A1', 'A11', 'A8', 'A4', 'A12', 'A22', 'A7', 'A22', 'A12', 'A1', 'A9', 'A14', 'A8', 'A11', 'A8', 'A12', 'A14', 'A17', 'A4', 'A17', 'A7', 'A16', 'A12', 'A7', 'A14', 'A16', 'A12', 'A17', 'A1', 'A9', 'A1', 'A1', 'A8']\n"
     ]
    }
   ],
   "source": [
    "all_targets = []\n",
    "\n",
    "for dataset_name in dataset_names:\n",
    "    dataset_labels = [id_to_label[pair[1]] for pair in __import__(dataset_name).dataset]\n",
    "    all_targets = all_targets + dataset_labels\n",
    "print(all_targets)"
   ]
  },
  {
   "cell_type": "code",
   "execution_count": 17,
   "id": "following-withdrawal",
   "metadata": {},
   "outputs": [
    {
     "name": "stdout",
     "output_type": "stream",
     "text": [
      "416\n"
     ]
    },
    {
     "data": {
      "text/html": [
       "<div>\n",
       "<style scoped>\n",
       "    .dataframe tbody tr th:only-of-type {\n",
       "        vertical-align: middle;\n",
       "    }\n",
       "\n",
       "    .dataframe tbody tr th {\n",
       "        vertical-align: top;\n",
       "    }\n",
       "\n",
       "    .dataframe thead th {\n",
       "        text-align: right;\n",
       "    }\n",
       "</style>\n",
       "<table border=\"1\" class=\"dataframe\">\n",
       "  <thead>\n",
       "    <tr style=\"text-align: right;\">\n",
       "      <th></th>\n",
       "      <th>mean_words</th>\n",
       "      <th>median</th>\n",
       "      <th>model_label_new</th>\n",
       "      <th>model_label_old</th>\n",
       "    </tr>\n",
       "  </thead>\n",
       "  <tbody>\n",
       "    <tr>\n",
       "      <th>0</th>\n",
       "      <td>49.142857</td>\n",
       "      <td>47.0</td>\n",
       "      <td>A22</td>\n",
       "      <td>A1</td>\n",
       "    </tr>\n",
       "    <tr>\n",
       "      <th>1</th>\n",
       "      <td>11.050000</td>\n",
       "      <td>8.0</td>\n",
       "      <td>A12</td>\n",
       "      <td>A1</td>\n",
       "    </tr>\n",
       "    <tr>\n",
       "      <th>2</th>\n",
       "      <td>41.400000</td>\n",
       "      <td>53.0</td>\n",
       "      <td>A1</td>\n",
       "      <td>A9</td>\n",
       "    </tr>\n",
       "    <tr>\n",
       "      <th>3</th>\n",
       "      <td>40.333333</td>\n",
       "      <td>37.5</td>\n",
       "      <td>A17</td>\n",
       "      <td>A1</td>\n",
       "    </tr>\n",
       "    <tr>\n",
       "      <th>4</th>\n",
       "      <td>23.666667</td>\n",
       "      <td>15.5</td>\n",
       "      <td>A1</td>\n",
       "      <td>A8</td>\n",
       "    </tr>\n",
       "  </tbody>\n",
       "</table>\n",
       "</div>"
      ],
      "text/plain": [
       "   mean_words  median model_label_new model_label_old\n",
       "0   49.142857    47.0             A22              A1\n",
       "1   11.050000     8.0             A12              A1\n",
       "2   41.400000    53.0              A1              A9\n",
       "3   40.333333    37.5             A17              A1\n",
       "4   23.666667    15.5              A1              A8"
      ]
     },
     "execution_count": 17,
     "metadata": {},
     "output_type": "execute_result"
    }
   ],
   "source": [
    "import re\n",
    "\n",
    "ru_attacked_df = pd.DataFrame()\n",
    "attack_count = collections.defaultdict(int)\n",
    "word_count = collections.defaultdict(list)\n",
    "good_count = 0\n",
    "\n",
    "for raw_text, real_target in zip(result_df.attack_result, all_targets):\n",
    "    if len(raw_text.split('\\n\\n')) == 3:\n",
    "        header, old, new = raw_text.split('\\n\\n')\n",
    "        _, label_id1, label_id2 = re.split(r'<font color = [a-zA-Z]+>', header)\n",
    "        label1 = id_to_label[int(label_id1.split()[0])]\n",
    "        label2 = id_to_label[int(label_id2.split()[0])]\n",
    "        changed_words = len(tuple(re.finditer(r'<font color = [a-zA-Z]+>', old)))\n",
    "        word_count[(label1, label2)].append(changed_words)\n",
    "        attack_count[(label1, label2)] += 1\n",
    "        \n",
    "        \n",
    "        ru_attacked_df = ru_attacked_df.append(\n",
    "            {'old_text': remove_color_tags(old), \n",
    "             'text': remove_color_tags(new),\n",
    "             'changed_words_num': changed_words,\n",
    "             'old_model_target': label1,\n",
    "             'new_model_target': label2,\n",
    "             'target': real_target\n",
    "            },\n",
    "            ignore_index=True\n",
    "        )\n",
    "        good_count += 1\n",
    "print(good_count)\n",
    "\n",
    "clean_stat_df = pd.DataFrame()\n",
    "for (label1, label2) in attack_count.keys():\n",
    "    cur_attack_count = attack_count[(label1, label2)]\n",
    "    cur_word_count = word_count[(label1, label2)]\n",
    "    clean_stat_df = clean_stat_df.append(\n",
    "        {'model_label_old': label1, \n",
    "         'model_label_new': label2, \n",
    "         'mean_words': sum(cur_word_count) / cur_attack_count, \n",
    "         'median': np.median(cur_word_count)\n",
    "        }, \n",
    "        ignore_index=True\n",
    "    )\n",
    "clean_stat_df.head()"
   ]
  },
  {
   "cell_type": "code",
   "execution_count": 18,
   "id": "durable-breast",
   "metadata": {},
   "outputs": [],
   "source": [
    "clean_stat_df.to_csv('/home/mlepekhin/data/en_textfooler_stat.csv')"
   ]
  },
  {
   "cell_type": "code",
   "execution_count": 19,
   "id": "median-forest",
   "metadata": {},
   "outputs": [
    {
     "data": {
      "text/html": [
       "<div>\n",
       "<style scoped>\n",
       "    .dataframe tbody tr th:only-of-type {\n",
       "        vertical-align: middle;\n",
       "    }\n",
       "\n",
       "    .dataframe tbody tr th {\n",
       "        vertical-align: top;\n",
       "    }\n",
       "\n",
       "    .dataframe thead th {\n",
       "        text-align: right;\n",
       "    }\n",
       "</style>\n",
       "<table border=\"1\" class=\"dataframe\">\n",
       "  <thead>\n",
       "    <tr style=\"text-align: right;\">\n",
       "      <th></th>\n",
       "      <th>changed_words_num</th>\n",
       "      <th>new_model_target</th>\n",
       "      <th>old_model_target</th>\n",
       "      <th>old_text</th>\n",
       "      <th>target</th>\n",
       "      <th>text</th>\n",
       "    </tr>\n",
       "  </thead>\n",
       "  <tbody>\n",
       "    <tr>\n",
       "      <th>0</th>\n",
       "      <td>35.0</td>\n",
       "      <td>A22</td>\n",
       "      <td>A1</td>\n",
       "      <td>Come gather round me comrades , and  hear my l...</td>\n",
       "      <td>A1</td>\n",
       "      <td>Come solicit round me comrade , both  listenin...</td>\n",
       "    </tr>\n",
       "    <tr>\n",
       "      <th>1</th>\n",
       "      <td>1.0</td>\n",
       "      <td>A12</td>\n",
       "      <td>A1</td>\n",
       "      <td>Grades 7 - 12 , Upper School Each year Beth Da...</td>\n",
       "      <td>A1</td>\n",
       "      <td>Grades 7 - 12 , Upper School Each year Beth Da...</td>\n",
       "    </tr>\n",
       "    <tr>\n",
       "      <th>2</th>\n",
       "      <td>59.0</td>\n",
       "      <td>A1</td>\n",
       "      <td>A9</td>\n",
       "      <td>WHEREAS by the Wimbledon and Putney  Commons  ...</td>\n",
       "      <td>A9</td>\n",
       "      <td>WHEREAS by the Wimbledon and Stratford  Flickr...</td>\n",
       "    </tr>\n",
       "    <tr>\n",
       "      <th>3</th>\n",
       "      <td>27.0</td>\n",
       "      <td>A17</td>\n",
       "      <td>A1</td>\n",
       "      <td>Can I just say , having been named by Timothy ...</td>\n",
       "      <td>A1</td>\n",
       "      <td>Can I just say , having been called by Timothy...</td>\n",
       "    </tr>\n",
       "    <tr>\n",
       "      <th>4</th>\n",
       "      <td>7.0</td>\n",
       "      <td>A1</td>\n",
       "      <td>A8</td>\n",
       "      <td>For Goldman Sachs , a public-relations disaste...</td>\n",
       "      <td>A8</td>\n",
       "      <td>For Sachs Sachs , a public-relations disaster ...</td>\n",
       "    </tr>\n",
       "  </tbody>\n",
       "</table>\n",
       "</div>"
      ],
      "text/plain": [
       "   changed_words_num new_model_target old_model_target  \\\n",
       "0               35.0              A22               A1   \n",
       "1                1.0              A12               A1   \n",
       "2               59.0               A1               A9   \n",
       "3               27.0              A17               A1   \n",
       "4                7.0               A1               A8   \n",
       "\n",
       "                                            old_text target  \\\n",
       "0  Come gather round me comrades , and  hear my l...     A1   \n",
       "1  Grades 7 - 12 , Upper School Each year Beth Da...     A1   \n",
       "2  WHEREAS by the Wimbledon and Putney  Commons  ...     A9   \n",
       "3  Can I just say , having been named by Timothy ...     A1   \n",
       "4  For Goldman Sachs , a public-relations disaste...     A8   \n",
       "\n",
       "                                                text  \n",
       "0  Come solicit round me comrade , both  listenin...  \n",
       "1  Grades 7 - 12 , Upper School Each year Beth Da...  \n",
       "2  WHEREAS by the Wimbledon and Stratford  Flickr...  \n",
       "3  Can I just say , having been called by Timothy...  \n",
       "4  For Sachs Sachs , a public-relations disaster ...  "
      ]
     },
     "execution_count": 19,
     "metadata": {},
     "output_type": "execute_result"
    }
   ],
   "source": [
    "ru_attacked_df.head()"
   ]
  },
  {
   "cell_type": "code",
   "execution_count": 20,
   "id": "prime-norfolk",
   "metadata": {},
   "outputs": [],
   "source": [
    "ru_attacked_df.to_csv('/home/mlepekhin/data/en_attacked.csv')"
   ]
  },
  {
   "cell_type": "code",
   "execution_count": 21,
   "id": "loose-singing",
   "metadata": {},
   "outputs": [
    {
     "data": {
      "text/plain": [
       "' Нижнекамскнефтехим'"
      ]
     },
     "execution_count": 21,
     "metadata": {},
     "output_type": "execute_result"
    }
   ],
   "source": [
    "remove_color_tags('<font color = gray>Нижнекамскнефтехим')"
   ]
  },
  {
   "cell_type": "code",
   "execution_count": null,
   "id": "blank-compilation",
   "metadata": {},
   "outputs": [],
   "source": []
  }
 ],
 "metadata": {
  "kernelspec": {
   "display_name": "Python 3",
   "language": "python",
   "name": "python3"
  },
  "language_info": {
   "codemirror_mode": {
    "name": "ipython",
    "version": 3
   },
   "file_extension": ".py",
   "mimetype": "text/x-python",
   "name": "python",
   "nbconvert_exporter": "python",
   "pygments_lexer": "ipython3",
   "version": "3.8.5"
  }
 },
 "nbformat": 4,
 "nbformat_minor": 5
}
